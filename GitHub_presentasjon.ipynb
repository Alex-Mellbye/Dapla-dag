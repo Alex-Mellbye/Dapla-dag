{
 "cells": [
  {
   "cell_type": "code",
   "execution_count": null,
   "id": "3735d144-c638-4d71-808d-928f85652cfd",
   "metadata": {},
   "outputs": [],
   "source": [
    "# Test for GitHub\n",
    "\n",
    "# Her skriver man kode som man laster inn og kjører i en Jupyter Notebook\n",
    "# Dette kan være kode skrevet i Python, R, PySpark, etc (men ikke SAS fordi SAS er lisensdrevet og ikke open-source som de andre språkene)\n",
    "\n",
    "\n",
    "# God Dapla-dag Krimgruppa!\n",
    "\n",
    "\n",
    "Dapla = \"Krimgruppa \"\n",
    "Dag = \"rocker!\"\n",
    "Dato = \"30.06.2023\"\n",
    "\n",
    "print(\"\")\n",
    "print(Dapla+Dag+\" Og datoen i dag er \"+Dato)\n",
    "\n"
   ]
  }
 ],
 "metadata": {
  "language_info": {
   "codemirror_mode": {
    "name": "ipython"
   },
   "file_extension": ".py",
   "mimetype": "text/x-python",
   "name": "python",
   "nbconvert_exporter": "python"
  }
 },
 "nbformat": 4,
 "nbformat_minor": 5
}
