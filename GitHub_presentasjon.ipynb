{
 "cells": [
  {
   "cell_type": "code",
   "execution_count": null,
   "id": "3735d144-c638-4d71-808d-928f85652cfd",
   "metadata": {},
   "outputs": [],
   "source": [
    "# Test for GitHub\n",
    "\n",
    "# Her skriver man kode som man laster inn og kjører i en Jupyter Notebook\n",
    "# Dette kan være kode skrevet i Python, R, PySpark, etc (men ikke SAS fordi SAS er lisensdrevet og ikke open-source som de andre språkene)\n",
    "\n",
    "\n",
    "# God Dapla-dag Krimgruppa!\n",
    "\n",
    "\n",
    "Dapla = \"Krimgruppa \"\n",
    "Dag = \"rocker!\"\n",
    "Dato = \"28.06.202334242\"\n",
    "\n",
    "print(\"\")\n",
    "print(Dapla+Dag+\" Og datoen i dag er \"+Dato)\n",
    "\n"
   ]
  }
 ],
 "metadata": {
  "kernelspec": {
   "display_name": "Python 3 (ipykernel)",
   "language": "python",
   "name": "python3"
  },
  "language_info": {
   "codemirror_mode": {
    "name": "ipython",
    "version": 3
   },
   "file_extension": ".py",
   "mimetype": "text/x-python",
   "name": "python",
   "nbconvert_exporter": "python",
   "pygments_lexer": "ipython3",
   "version": "3.10.9"
  }
 },
 "nbformat": 4,
 "nbformat_minor": 5
}
