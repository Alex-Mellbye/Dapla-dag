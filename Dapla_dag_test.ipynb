{
 "cells": [
  {
   "cell_type": "code",
   "execution_count": 1,
   "id": "e54c0e0b-7b25-4e85-b704-d8ab05d099e8",
   "metadata": {
    "tags": []
   },
   "outputs": [
    {
     "name": "stdout",
     "output_type": "stream",
     "text": [
      "\n",
      "Krimgruppa rocker! Og datoen i dag er 28.06.2023\n",
      "og dette er gøy\n"
     ]
    }
   ],
   "source": [
    "\n",
    "\n",
    "\n",
    "\n",
    "# Test for GitHub\n",
    "\n",
    "# Her skriver man kode som man laster inn og kjører i en Jupyter Notebook\n",
    "# Dette kan være kode skrevet i Python, R, C++, etc (men ikke SAS fordi SAS er lisensdrevet og ikke open-source som de andre språkene)\n",
    "\n",
    "\n",
    "# God Dapla-dag Krimgruppa!\n",
    "\n",
    "\n",
    "Dapla = \"Krimgruppa \"\n",
    "Dag = \"rocker!\"\n",
    "Dato = \"28.06.2023\"\n",
    "\n",
    "print(\"\")\n",
    "print(Dapla+Dag+\" Og datoen i dag er \"+Dato)\n",
    "print(\"og dette er gøy\")\n",
    "\n"
   ]
  }
 ],
 "metadata": {
  "kernelspec": {
   "display_name": "Python 3 (ipykernel)",
   "language": "python",
   "name": "python3"
  },
  "language_info": {
   "codemirror_mode": {
    "name": "ipython",
    "version": 3
   },
   "file_extension": ".py",
   "mimetype": "text/x-python",
   "name": "python",
   "nbconvert_exporter": "python",
   "pygments_lexer": "ipython3",
   "version": "3.10.9"
  }
 },
 "nbformat": 4,
 "nbformat_minor": 5
}
